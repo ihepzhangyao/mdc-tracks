{
 "cells": [
  {
   "cell_type": "code",
   "execution_count": null,
   "metadata": {},
   "outputs": [],
   "source": [
    "import h5py\n"
   ]
  },
  {
   "cell_type": "code",
   "execution_count": null,
   "metadata": {},
   "outputs": [],
   "source": [
    "file_path = \"D:\\ihep\\mdc-tracks\\data\\HDF5\\pipijpsi\\bes3data_0002.hdf5\"\n",
    "h5file = h5py.File(file_path, 'r')\n",
    "events = list(h5file.keys())\n",
    "for event_name in events:\n",
    "    event_group = h5file[event_name]\n",
    "    hit_feat = event_group['hit_feature']\n",
    "\n",
    "hit_feat"
   ]
  },
  {
   "cell_type": "code",
   "execution_count": null,
   "metadata": {},
   "outputs": [],
   "source": []
  },
  {
   "attachments": {},
   "cell_type": "markdown",
   "metadata": {},
   "source": [
    "/                   # Root group\n",
    "    event_1/           # Group containing event data\n",
    "        hit_feature    # Dataset containing hits features in one event\n",
    "        hit_label       # Dataset containing hits label in one event\n",
    "        track_label     # Dataset containing track label in one event\n",
    "    event_2/            # Group containing second event data\n",
    "            ...     \n",
    "\n"
   ]
  }
 ],
 "metadata": {
  "kernelspec": {
   "display_name": "hep-tracks",
   "language": "python",
   "name": "python3"
  },
  "language_info": {
   "codemirror_mode": {
    "name": "ipython",
    "version": 3
   },
   "file_extension": ".py",
   "mimetype": "text/x-python",
   "name": "python",
   "nbconvert_exporter": "python",
   "pygments_lexer": "ipython3",
   "version": "3.8.16"
  },
  "orig_nbformat": 4
 },
 "nbformat": 4,
 "nbformat_minor": 2
}
